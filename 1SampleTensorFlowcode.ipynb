{
  "nbformat": 4,
  "nbformat_minor": 0,
  "metadata": {
    "colab": {
      "name": "SampleTensorFlowcode.ipynb",
      "provenance": [],
      "authorship_tag": "ABX9TyMSVInpLM5MDpknVVml9zXd",
      "include_colab_link": true
    },
    "kernelspec": {
      "name": "python3",
      "display_name": "Python 3"
    },
    "language_info": {
      "name": "python"
    }
  },
  "cells": [
    {
      "cell_type": "markdown",
      "metadata": {
        "id": "view-in-github",
        "colab_type": "text"
      },
      "source": [
        "<a href=\"https://colab.research.google.com/github/thronOne97/TinyMLFN/blob/1.4-Getting-Started/1SampleTensorFlowcode.ipynb\" target=\"_parent\"><img src=\"https://colab.research.google.com/assets/colab-badge.svg\" alt=\"Open In Colab\"/></a>"
      ]
    },
    {
      "cell_type": "markdown",
      "source": [
        "**Load in the TensorFlow library**"
      ],
      "metadata": {
        "id": "sfGWQ-PPqF4m"
      }
    },
    {
      "cell_type": "code",
      "execution_count": 1,
      "metadata": {
        "id": "rmcHG7ZEqDGd"
      },
      "outputs": [],
      "source": [
        "import tensorflow as tf"
      ]
    },
    {
      "cell_type": "markdown",
      "source": [
        "Define my custom Neural Network model\n"
      ],
      "metadata": {
        "id": "AAWZ4UOpqVZy"
      }
    },
    {
      "cell_type": "code",
      "source": [
        "class MyModel(tf.keras.Model):\n",
        "    def __init__(self):\n",
        "        super(MyModel, self).__init__()\n",
        "# define Neural Network layer types\n",
        "        self.conv = tf.keras.layers.Conv2D(32, 3, activation='relu')\n",
        "        self.flatten = tf.keras.layers.Flatten()\n",
        "        self.dense1 = tf.keras.layers.Dense(128, activation='relu')\n",
        "        self.dense2 = tf.keras.layers.Dense(10)\n",
        "# run my Neural Network model by evaluating each layer on my input data\n",
        "    def call(self, x):\n",
        "        x = self.conv(x)\n",
        "        x = self.flatten(x)\n",
        "        x = self.dense1(x)\n",
        "        x = self.dense2(x)\n",
        "        return x"
      ],
      "metadata": {
        "id": "Jh8sGyxqqZw8"
      },
      "execution_count": 3,
      "outputs": []
    },
    {
      "cell_type": "markdown",
      "source": [
        "Create an instance of the model\n"
      ],
      "metadata": {
        "id": "u9MC6SOBqoaa"
      }
    },
    {
      "cell_type": "code",
      "source": [
        "model = MyModel()"
      ],
      "metadata": {
        "id": "bqdIg_OcqrIX"
      },
      "execution_count": 4,
      "outputs": []
    }
  ]
}